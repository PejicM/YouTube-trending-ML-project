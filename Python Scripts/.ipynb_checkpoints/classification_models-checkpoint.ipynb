{
 "cells": [
  {
   "cell_type": "code",
   "execution_count": 32,
   "metadata": {},
   "outputs": [],
   "source": [
    "import pandas as pd\n",
    "import numpy as np\n",
    "import matplotlib.pyplot as plt\n",
    "import seaborn as sns\n",
    "%matplotlib inline"
   ]
  },
  {
   "cell_type": "markdown",
   "metadata": {},
   "source": [
    "# Data Loading"
   ]
  },
  {
   "cell_type": "code",
   "execution_count": 2,
   "metadata": {},
   "outputs": [],
   "source": [
    "videos_df = pd.read_csv('US_trending.csv')"
   ]
  },
  {
   "cell_type": "code",
   "execution_count": 3,
   "metadata": {},
   "outputs": [
    {
     "data": {
      "text/html": [
       "<div>\n",
       "<style scoped>\n",
       "    .dataframe tbody tr th:only-of-type {\n",
       "        vertical-align: middle;\n",
       "    }\n",
       "\n",
       "    .dataframe tbody tr th {\n",
       "        vertical-align: top;\n",
       "    }\n",
       "\n",
       "    .dataframe thead th {\n",
       "        text-align: right;\n",
       "    }\n",
       "</style>\n",
       "<table border=\"1\" class=\"dataframe\">\n",
       "  <thead>\n",
       "    <tr style=\"text-align: right;\">\n",
       "      <th></th>\n",
       "      <th>video_id</th>\n",
       "      <th>title</th>\n",
       "      <th>published_at</th>\n",
       "      <th>channel_id</th>\n",
       "      <th>channel_title</th>\n",
       "      <th>category_id</th>\n",
       "      <th>trending_date</th>\n",
       "      <th>tags</th>\n",
       "      <th>view_count</th>\n",
       "      <th>likes</th>\n",
       "      <th>...</th>\n",
       "      <th>comment_count</th>\n",
       "      <th>thumbnail_link</th>\n",
       "      <th>comments_disabled</th>\n",
       "      <th>ratings_disabled</th>\n",
       "      <th>description</th>\n",
       "      <th>days_in_trending</th>\n",
       "      <th>category_name</th>\n",
       "      <th>publish_to_trend</th>\n",
       "      <th>publishing_hour</th>\n",
       "      <th>publishing_day</th>\n",
       "    </tr>\n",
       "  </thead>\n",
       "  <tbody>\n",
       "    <tr>\n",
       "      <td>0</td>\n",
       "      <td>vPx6M7eTYbc</td>\n",
       "      <td>Spill Your Guts: Harry Styles &amp; Kendall Jenner</td>\n",
       "      <td>2019-12-11 07:08:34</td>\n",
       "      <td>UCJ0uqCI0Vqr2Rrt1HseGirg</td>\n",
       "      <td>The Late Late Show with James Corden</td>\n",
       "      <td>24</td>\n",
       "      <td>2019-12-12</td>\n",
       "      <td>The Late Late Show|Late Late Show|James Corden...</td>\n",
       "      <td>11636632</td>\n",
       "      <td>571835</td>\n",
       "      <td>...</td>\n",
       "      <td>20068</td>\n",
       "      <td>https://i.ytimg.com/vi/vPx6M7eTYbc/default.jpg</td>\n",
       "      <td>False</td>\n",
       "      <td>False</td>\n",
       "      <td>Late Late Show guest host Harry Styles challen...</td>\n",
       "      <td>1</td>\n",
       "      <td>Entertainment</td>\n",
       "      <td>1</td>\n",
       "      <td>7</td>\n",
       "      <td>Wednesday</td>\n",
       "    </tr>\n",
       "    <tr>\n",
       "      <td>1</td>\n",
       "      <td>sg8WaeeFyNY</td>\n",
       "      <td>WE GOT UNEXPECTED NEWS..</td>\n",
       "      <td>2019-12-12 05:25:42</td>\n",
       "      <td>UCDSJCBYqL7VQrlXfhr1RtwA</td>\n",
       "      <td>Les Do Makeup</td>\n",
       "      <td>26</td>\n",
       "      <td>2019-12-12</td>\n",
       "      <td>[none]</td>\n",
       "      <td>423215</td>\n",
       "      <td>52780</td>\n",
       "      <td>...</td>\n",
       "      <td>13130</td>\n",
       "      <td>https://i.ytimg.com/vi/sg8WaeeFyNY/default.jpg</td>\n",
       "      <td>False</td>\n",
       "      <td>False</td>\n",
       "      <td>Hi babygirls!  Thank you so much for watching ...</td>\n",
       "      <td>7</td>\n",
       "      <td>How-to &amp; Style</td>\n",
       "      <td>0</td>\n",
       "      <td>5</td>\n",
       "      <td>Thursday</td>\n",
       "    </tr>\n",
       "    <tr>\n",
       "      <td>2</td>\n",
       "      <td>q1PR05q8l2g</td>\n",
       "      <td>Last To Miss Layup Wins $10,000</td>\n",
       "      <td>2019-12-11 23:00:53</td>\n",
       "      <td>UCQIUhhcmXsu6cN6n3y9-Pww</td>\n",
       "      <td>Jesser</td>\n",
       "      <td>17</td>\n",
       "      <td>2019-12-12</td>\n",
       "      <td>last to leave|nba basketball|nba basketball hi...</td>\n",
       "      <td>463685</td>\n",
       "      <td>20178</td>\n",
       "      <td>...</td>\n",
       "      <td>931</td>\n",
       "      <td>https://i.ytimg.com/vi/q1PR05q8l2g/default.jpg</td>\n",
       "      <td>False</td>\n",
       "      <td>False</td>\n",
       "      <td>Last to miss the basketball shot wins 10,000!●...</td>\n",
       "      <td>7</td>\n",
       "      <td>Sport</td>\n",
       "      <td>1</td>\n",
       "      <td>23</td>\n",
       "      <td>Wednesday</td>\n",
       "    </tr>\n",
       "    <tr>\n",
       "      <td>3</td>\n",
       "      <td>t6Z6RIXq0L0</td>\n",
       "      <td>LAKERS at MAGIC | FULL GAME HIGHLIGHTS | Decem...</td>\n",
       "      <td>2019-12-12 02:35:33</td>\n",
       "      <td>UCWJ2lWNubArHWmf3FIHbfcQ</td>\n",
       "      <td>NBA</td>\n",
       "      <td>17</td>\n",
       "      <td>2019-12-12</td>\n",
       "      <td>sp:ty=high|sp:dt=2019-12-12T00:00:00Z|sp:st=ba...</td>\n",
       "      <td>659579</td>\n",
       "      <td>4605</td>\n",
       "      <td>...</td>\n",
       "      <td>668</td>\n",
       "      <td>https://i.ytimg.com/vi/t6Z6RIXq0L0/default.jpg</td>\n",
       "      <td>False</td>\n",
       "      <td>False</td>\n",
       "      <td>LAKERS at MAGIC | FULL GAME HIGHLIGHTS | Decem...</td>\n",
       "      <td>2</td>\n",
       "      <td>Sport</td>\n",
       "      <td>0</td>\n",
       "      <td>2</td>\n",
       "      <td>Thursday</td>\n",
       "    </tr>\n",
       "    <tr>\n",
       "      <td>4</td>\n",
       "      <td>TGDpRB4ovvA</td>\n",
       "      <td>TIPPING DRIVE-THRU WORKERS $100 FOR THE HOLIDA...</td>\n",
       "      <td>2019-12-12 02:38:37</td>\n",
       "      <td>UCtj45MepAoKxZoyR_Mnt86Q</td>\n",
       "      <td>Royal Family</td>\n",
       "      <td>24</td>\n",
       "      <td>2019-12-12</td>\n",
       "      <td>queen Naija|Medicine|Queen|Spicy|Royalty Squad...</td>\n",
       "      <td>175558</td>\n",
       "      <td>18400</td>\n",
       "      <td>...</td>\n",
       "      <td>1907</td>\n",
       "      <td>https://i.ytimg.com/vi/TGDpRB4ovvA/default.jpg</td>\n",
       "      <td>False</td>\n",
       "      <td>False</td>\n",
       "      <td>LAST VIDEO ; https://youtu.be/okujHUu_hmQ*MAKE...</td>\n",
       "      <td>6</td>\n",
       "      <td>Entertainment</td>\n",
       "      <td>0</td>\n",
       "      <td>2</td>\n",
       "      <td>Thursday</td>\n",
       "    </tr>\n",
       "  </tbody>\n",
       "</table>\n",
       "<p>5 rows × 21 columns</p>\n",
       "</div>"
      ],
      "text/plain": [
       "      video_id                                              title  \\\n",
       "0  vPx6M7eTYbc     Spill Your Guts: Harry Styles & Kendall Jenner   \n",
       "1  sg8WaeeFyNY                           WE GOT UNEXPECTED NEWS..   \n",
       "2  q1PR05q8l2g                    Last To Miss Layup Wins $10,000   \n",
       "3  t6Z6RIXq0L0  LAKERS at MAGIC | FULL GAME HIGHLIGHTS | Decem...   \n",
       "4  TGDpRB4ovvA  TIPPING DRIVE-THRU WORKERS $100 FOR THE HOLIDA...   \n",
       "\n",
       "          published_at                channel_id  \\\n",
       "0  2019-12-11 07:08:34  UCJ0uqCI0Vqr2Rrt1HseGirg   \n",
       "1  2019-12-12 05:25:42  UCDSJCBYqL7VQrlXfhr1RtwA   \n",
       "2  2019-12-11 23:00:53  UCQIUhhcmXsu6cN6n3y9-Pww   \n",
       "3  2019-12-12 02:35:33  UCWJ2lWNubArHWmf3FIHbfcQ   \n",
       "4  2019-12-12 02:38:37  UCtj45MepAoKxZoyR_Mnt86Q   \n",
       "\n",
       "                          channel_title  category_id trending_date  \\\n",
       "0  The Late Late Show with James Corden           24    2019-12-12   \n",
       "1                         Les Do Makeup           26    2019-12-12   \n",
       "2                                Jesser           17    2019-12-12   \n",
       "3                                   NBA           17    2019-12-12   \n",
       "4                          Royal Family           24    2019-12-12   \n",
       "\n",
       "                                                tags  view_count   likes  ...  \\\n",
       "0  The Late Late Show|Late Late Show|James Corden...    11636632  571835  ...   \n",
       "1                                             [none]      423215   52780  ...   \n",
       "2  last to leave|nba basketball|nba basketball hi...      463685   20178  ...   \n",
       "3  sp:ty=high|sp:dt=2019-12-12T00:00:00Z|sp:st=ba...      659579    4605  ...   \n",
       "4  queen Naija|Medicine|Queen|Spicy|Royalty Squad...      175558   18400  ...   \n",
       "\n",
       "   comment_count                                  thumbnail_link  \\\n",
       "0          20068  https://i.ytimg.com/vi/vPx6M7eTYbc/default.jpg   \n",
       "1          13130  https://i.ytimg.com/vi/sg8WaeeFyNY/default.jpg   \n",
       "2            931  https://i.ytimg.com/vi/q1PR05q8l2g/default.jpg   \n",
       "3            668  https://i.ytimg.com/vi/t6Z6RIXq0L0/default.jpg   \n",
       "4           1907  https://i.ytimg.com/vi/TGDpRB4ovvA/default.jpg   \n",
       "\n",
       "  comments_disabled  ratings_disabled  \\\n",
       "0             False             False   \n",
       "1             False             False   \n",
       "2             False             False   \n",
       "3             False             False   \n",
       "4             False             False   \n",
       "\n",
       "                                         description days_in_trending  \\\n",
       "0  Late Late Show guest host Harry Styles challen...                1   \n",
       "1  Hi babygirls!  Thank you so much for watching ...                7   \n",
       "2  Last to miss the basketball shot wins 10,000!●...                7   \n",
       "3  LAKERS at MAGIC | FULL GAME HIGHLIGHTS | Decem...                2   \n",
       "4  LAST VIDEO ; https://youtu.be/okujHUu_hmQ*MAKE...                6   \n",
       "\n",
       "    category_name publish_to_trend  publishing_hour  publishing_day  \n",
       "0   Entertainment                1                7       Wednesday  \n",
       "1  How-to & Style                0                5        Thursday  \n",
       "2           Sport                1               23       Wednesday  \n",
       "3           Sport                0                2        Thursday  \n",
       "4   Entertainment                0                2        Thursday  \n",
       "\n",
       "[5 rows x 21 columns]"
      ]
     },
     "execution_count": 3,
     "metadata": {},
     "output_type": "execute_result"
    }
   ],
   "source": [
    "videos_df.head()"
   ]
  },
  {
   "cell_type": "markdown",
   "metadata": {},
   "source": [
    "# Video likes discretization"
   ]
  },
  {
   "cell_type": "code",
   "execution_count": 34,
   "metadata": {},
   "outputs": [
    {
     "data": {
      "text/plain": [
       "[Text(0.5, 0, 'Likes')]"
      ]
     },
     "execution_count": 34,
     "metadata": {},
     "output_type": "execute_result"
    },
    {
     "data": {
      "image/png": "[encoded data removed]",
      "text/plain": [
       "<Figure size 1080x720 with 1 Axes>"
      ]
     },
     "metadata": {
      "needs_background": "light"
     },
     "output_type": "display_data"
    }
   ],
   "source": [
    "# distribution of trending video likes\n",
    "fig, ax = plt.subplots(figsize=(15, 10))\n",
    "sns.distplot(videos_df['likes'])\n",
    "ax.set(xlabel='Likes')"
   ]
  },
  {
   "cell_type": "code",
   "execution_count": 35,
   "metadata": {},
   "outputs": [
    {
     "name": "stdout",
     "output_type": "stream",
     "text": [
      "Min likes: 0\n",
      "Max likes: 200000\n",
      "Step: 40000\n"
     ]
    }
   ],
   "source": [
    "likes = videos_df['likes']\n",
    "min_likes = min(likes)\n",
    "#max_likes = max(likes)\n",
    "max_likes = 200000\n",
    "step = round((max_likes - min_likes) / 5)\n",
    "\n",
    "print('Min likes: {}'.format(min_likes))\n",
    "print('Max likes: {}'.format(max_likes))\n",
    "print('Step: {}'.format(step))"
   ]
  },
  {
   "cell_type": "code",
   "execution_count": 61,
   "metadata": {},
   "outputs": [],
   "source": [
    "def likes_discretization(likes, step, categories=5):\n",
    "    min_limit = 0\n",
    "    max_limit = step\n",
    "    for i in range(1, categories):\n",
    "        if likes >= min_limit and likes <= max_limit:\n",
    "            return i\n",
    "        min_limit = i * step + 1\n",
    "        max_limit = min_limit + step - 1\n",
    "    return categories"
   ]
  },
  {
   "cell_type": "code",
   "execution_count": 62,
   "metadata": {},
   "outputs": [],
   "source": [
    "disc_likes = videos_df['likes'].apply(lambda var: likes_discretization(var, step))"
   ]
  },
  {
   "cell_type": "code",
   "execution_count": 66,
   "metadata": {},
   "outputs": [
    {
     "data": {
      "text/plain": [
       "[Text(0.5, 0, 'Discrete values of likes')]"
      ]
     },
     "execution_count": 66,
     "metadata": {},
     "output_type": "execute_result"
    },
    {
     "data": {
      "image/png": "[encoded data removed]",
      "text/plain": [
       "<Figure size 1080x720 with 1 Axes>"
      ]
     },
     "metadata": {
      "needs_background": "light"
     },
     "output_type": "display_data"
    }
   ],
   "source": [
    "# distribution of trending video likes\n",
    "fig, ax = plt.subplots(figsize=(15, 10))\n",
    "sns.distplot(disc_likes)\n",
    "ax.set(xlabel='Discrete values of likes')"
   ]
  },
  {
   "cell_type": "code",
   "execution_count": 64,
   "metadata": {},
   "outputs": [
    {
     "name": "stdout",
     "output_type": "stream",
     "text": [
      "11\n"
     ]
    }
   ],
   "source": [
    "print(len(videos_df[videos_df['ratings_disabled'] == True]))"
   ]
  },
  {
   "cell_type": "code",
   "execution_count": null,
   "metadata": {},
   "outputs": [],
   "source": []
  }
 ],
 "metadata": {
  "kernelspec": {
   "display_name": "Python 3",
   "language": "python",
   "name": "python3"
  },
  "language_info": {
   "codemirror_mode": {
    "name": "ipython",
    "version": 3
   },
   "file_extension": ".py",
   "mimetype": "text/x-python",
   "name": "python",
   "nbconvert_exporter": "python",
   "pygments_lexer": "ipython3",
   "version": "3.7.4"
  }
 },
 "nbformat": 4,
 "nbformat_minor": 2
}
